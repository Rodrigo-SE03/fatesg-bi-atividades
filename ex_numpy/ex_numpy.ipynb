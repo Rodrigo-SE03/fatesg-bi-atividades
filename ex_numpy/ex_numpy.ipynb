{
 "cells": [
  {
   "cell_type": "code",
   "execution_count": 1,
   "metadata": {},
   "outputs": [
    {
     "name": "stdout",
     "output_type": "stream",
     "text": [
      "Requirement already satisfied: numpy in c:\\users\\aluno\\desktop\\atividades\\bi\\venv\\lib\\site-packages (2.2.4)\n"
     ]
    },
    {
     "name": "stderr",
     "output_type": "stream",
     "text": [
      "\n",
      "[notice] A new release of pip is available: 24.2 -> 25.0.1\n",
      "[notice] To update, run: python.exe -m pip install --upgrade pip\n"
     ]
    }
   ],
   "source": [
    "!pip install numpy\n",
    "import numpy as np"
   ]
  },
  {
   "cell_type": "markdown",
   "metadata": {},
   "source": [
    "Exercício 1: Crie um array de 10 elementos. Altere o valores de todos os elementos\n",
    "com índices 5 até 8 para 0."
   ]
  },
  {
   "cell_type": "code",
   "execution_count": 21,
   "metadata": {},
   "outputs": [
    {
     "name": "stdout",
     "output_type": "stream",
     "text": [
      "[0 1 2 3 4 5 6 7 8 9]\n",
      "[0 1 2 3 4 0 0 0 8 9]\n"
     ]
    }
   ],
   "source": [
    "vetor0 = np.arange(0,10,1)\n",
    "print(vetor0)\n",
    "for valor,idx in enumerate(vetor0):\n",
    "    if idx >= 5 and idx < 8:\n",
    "        vetor0[idx] = 0\n",
    "\n",
    "print(vetor0)"
   ]
  },
  {
   "cell_type": "markdown",
   "metadata": {},
   "source": [
    "Exercício 2: Crie um array com 3 linhas e 2 colunas. Depois imprima o shape e a 2a\n",
    "linha da matriz."
   ]
  },
  {
   "cell_type": "code",
   "execution_count": 28,
   "metadata": {},
   "outputs": [
    {
     "name": "stdout",
     "output_type": "stream",
     "text": [
      "[[0 1]\n",
      " [2 3]\n",
      " [4 5]]\n",
      "(3, 2)\n",
      "[2 3]\n"
     ]
    }
   ],
   "source": [
    "vetor1 = np.array([[0,1],[2,3],[4,5]])\n",
    "print(vetor1)\n",
    "print(np.shape(vetor1))\n",
    "print(vetor1[1])"
   ]
  },
  {
   "cell_type": "markdown",
   "metadata": {},
   "source": [
    "Exercício 3: Crie um array com 3 linhas e 2 colunas. Depois imprima a 2a coluna."
   ]
  },
  {
   "cell_type": "code",
   "execution_count": 26,
   "metadata": {},
   "outputs": [
    {
     "name": "stdout",
     "output_type": "stream",
     "text": [
      "[[0 1]\n",
      " [2 3]\n",
      " [4 5]]\n",
      "[1 3 5]\n"
     ]
    }
   ],
   "source": [
    "print(vetor1)\n",
    "print(vetor1[:,1])"
   ]
  },
  {
   "cell_type": "markdown",
   "metadata": {},
   "source": [
    "Exercício 4: Crie um array de com 4 linhas e 5 colunas. Depois imprima os elementos\n",
    "da terceira linha da matriz."
   ]
  },
  {
   "cell_type": "code",
   "execution_count": 16,
   "metadata": {},
   "outputs": [
    {
     "name": "stdout",
     "output_type": "stream",
     "text": [
      "[[ 0  1  2  3  4]\n",
      " [ 5  6  7  8  9]\n",
      " [10 11 12 13 14]\n",
      " [15 16 17 18 19]]\n",
      "[10 11 12 13 14]\n"
     ]
    }
   ],
   "source": [
    "vetor2 = np.array([list(range(0,5)),list(range(5,10)),list(range(10,15)), list(range(15,20))])\n",
    "print(vetor2)\n",
    "print(vetor2[2])"
   ]
  },
  {
   "cell_type": "markdown",
   "metadata": {},
   "source": [
    "Exercício 5: Crie um array de com 4 linhas e 5 colunas. Depois imprima todos os\n",
    "elementos da primeira e segunda linhas e segunda a terceira colunas."
   ]
  },
  {
   "cell_type": "code",
   "execution_count": 17,
   "metadata": {},
   "outputs": [
    {
     "name": "stdout",
     "output_type": "stream",
     "text": [
      "[[1 2]\n",
      " [6 7]]\n"
     ]
    }
   ],
   "source": [
    "print(vetor2[0:2,1:3])"
   ]
  },
  {
   "cell_type": "markdown",
   "metadata": {},
   "source": [
    "Exercício 6: Crie um array de com 4 linhas e 5 colunas. Depois imprima todos os\n",
    "elementos da segunda e terceira linhas e primeira a terceira colunas."
   ]
  },
  {
   "cell_type": "code",
   "execution_count": 18,
   "metadata": {},
   "outputs": [
    {
     "name": "stdout",
     "output_type": "stream",
     "text": [
      "[[ 5  6  7]\n",
      " [10 11 12]]\n"
     ]
    }
   ],
   "source": [
    "print(vetor2[1:3,0:3])"
   ]
  }
 ],
 "metadata": {
  "kernelspec": {
   "display_name": "venv",
   "language": "python",
   "name": "python3"
  },
  "language_info": {
   "codemirror_mode": {
    "name": "ipython",
    "version": 3
   },
   "file_extension": ".py",
   "mimetype": "text/x-python",
   "name": "python",
   "nbconvert_exporter": "python",
   "pygments_lexer": "ipython3",
   "version": "3.12.5"
  }
 },
 "nbformat": 4,
 "nbformat_minor": 2
}
